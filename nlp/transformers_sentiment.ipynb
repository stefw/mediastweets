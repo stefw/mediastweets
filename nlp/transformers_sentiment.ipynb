{
  "nbformat": 4,
  "nbformat_minor": 0,
  "metadata": {
    "colab": {
      "name": "transformers - sentiment",
      "provenance": [],
      "collapsed_sections": [],
      "mount_file_id": "16_Rcjw6hqaE8M3Fjczhx0T3tXbXEW9uZ",
      "authorship_tag": "ABX9TyNZAtK975636JkN5d30R0CJ",
      "include_colab_link": true
    },
    "kernelspec": {
      "name": "python3",
      "display_name": "Python 3"
    },
    "language_info": {
      "name": "python"
    }
  },
  "cells": [
    {
      "cell_type": "markdown",
      "metadata": {
        "id": "view-in-github",
        "colab_type": "text"
      },
      "source": [
        "<a href=\"https://colab.research.google.com/github/stefw/mediastweets/blob/main/nlp/transformers_sentiment.ipynb\" target=\"_parent\"><img src=\"https://colab.research.google.com/assets/colab-badge.svg\" alt=\"Open In Colab\"/></a>"
      ]
    },
    {
      "cell_type": "markdown",
      "metadata": {
        "id": "6P5mUZ_3yR5d"
      },
      "source": [
        "https://thedatafrog.com/fr/articles/pre-trained-transformers-hugging-face/"
      ]
    },
    {
      "cell_type": "code",
      "metadata": {
        "id": "FLX7Fg04xEib"
      },
      "source": [
        "!pip install transformers[sentencepiece]"
      ],
      "execution_count": null,
      "outputs": []
    },
    {
      "cell_type": "code",
      "metadata": {
        "id": "pVsaliq5xTei"
      },
      "source": [
        "#other\n",
        "#problem\n",
        "#solution\n",
        "import pandas as pd\n",
        "from transformers import AutoModelForSequenceClassification, AutoTokenizer\n",
        "model = AutoModelForSequenceClassification.from_pretrained(\"mazancourt/politics-sentence-classifier\", use_auth_token=False)\n",
        "tokenizer = AutoTokenizer.from_pretrained(\"mazancourt/politics-sentence-classifier\", use_auth_token=False)\n"
      ],
      "execution_count": null,
      "outputs": []
    },
    {
      "cell_type": "code",
      "metadata": {
        "id": "GR6SEAzcH5_u"
      },
      "source": [
        "# hello csv\n",
        "df2 = pd.read_csv(\"/content/drive/MyDrive/Colab Notebooks/computed/fromZemmourEric-tweetsHFxlm-robertaOK.csv\")\n",
        "# process csv and get senti\n",
        "natureCol = []\n",
        "naturescoreCol = []\n",
        "j =1\n",
        "for index, row in df2.iterrows():\n",
        "  # get sentiment\n",
        "  txt = row['text']\n",
        "  inputs = tokenizer(txt, return_tensors=\"pt\")\n",
        "  outputs = model(**inputs)\n",
        "  res  = outputs.logits.softmax(dim=-1).tolist()\n",
        "  df = pd.DataFrame(res[0])\n",
        "  i = df.idxmax() #si i = 1 etc...\n",
        "  res2 = df.iloc[i,:]\n",
        "  naturescore = res2[0].values[0]\n",
        "  if i[0] == 0:\n",
        "    tx = \"Other\"\n",
        "  elif i[0] == 1:\n",
        "    tx = \"Problem\"\n",
        "  else:\n",
        "    tx = \"Solution\"\n",
        "  j=j+1\n",
        "  print (j)\n",
        "  #df2 = df2.append({'nature' : tx ,'naturescore' : naturescore } , ignore_index=True)\n",
        "  natureCol.append(tx)\n",
        "  naturescoreCol.append(naturescore)\n",
        "\n",
        "df2['nature'] = natureCol\n",
        "df2['naturescore'] = naturescoreCol"
      ],
      "execution_count": null,
      "outputs": []
    },
    {
      "cell_type": "code",
      "metadata": {
        "id": "WcZYxDi57IvF"
      },
      "source": [
        "df2"
      ],
      "execution_count": null,
      "outputs": []
    },
    {
      "cell_type": "code",
      "metadata": {
        "id": "LC830q8I__3Q"
      },
      "source": [
        "df2.to_csv('/content/drive/MyDrive/Colab Notebooks/computed/fromZemmourEric-tweetsHFxlm-roberta_withnature.csv') "
      ],
      "execution_count": null,
      "outputs": []
    }
  ]
}